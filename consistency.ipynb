{
 "cells": [
  {
   "cell_type": "code",
   "execution_count": 21,
   "id": "6e51763d-1ad5-4f91-aa8e-fbb54b4fe318",
   "metadata": {},
   "outputs": [],
   "source": [
    "import pandas as pd\n",
    "import os\n",
    "\n",
    "file = pd.read_csv(\"/Users/ansonice/Desktop/rouge_intern/export_All-Companies-modified2--_2022-04-11_13-27-37.csv\")\n",
    "\n",
    "def correction(list_name):\n",
    "    for element in list_name:\n",
    "        file.loc[file.HQ.str.contains(element, na=False, case=False, regex=False),\"Modified\"] = list_name[0]\n",
    "\n",
    "\n",
    "        \n",
    "UK = pd.read_csv(\"/Users/ansonice/Desktop/rouge_intern/Countries_city/UK.csv\")[\"city\"].tolist()\n",
    "US = pd.read_csv(\"/Users/ansonice/Desktop/rouge_intern/Countries_city/USA.csv\")[\"city\"].tolist()\n",
    "INDIA = pd.read_csv(\"/Users/ansonice/Desktop/rouge_intern/Countries_city/INDIA.csv\")[\"city\"].tolist()\n",
    "HK = [\"HK\",\"Hong Kong\"]\n",
    "SWEDEN = pd.read_csv(\"/Users/ansonice/Desktop/rouge_intern/Countries_city/sweden.csv\")[\"city\"].tolist()\n",
    "NETHERLANDS = pd.read_csv(\"/Users/ansonice/Desktop/rouge_intern/Countries_city/the_netherlands.csv\")[\"city\"].tolist()\n",
    "SWITZERLAND = pd.read_csv(\"/Users/ansonice/Desktop/rouge_intern/Countries_city/SWITZERLAND.csv\")[\"city\"].tolist()\n",
    "CHINA = pd.read_csv(\"/Users/ansonice/Desktop/rouge_intern/Countries_city/china.csv\")[\"city\"].tolist()\n",
    "ISRAEL = pd.read_csv(\"/Users/ansonice/Desktop/rouge_intern/Countries_city/ISRAEL.csv\")[\"city\"].tolist()\n",
    "GERMANY = pd.read_csv(\"/Users/ansonice/Desktop/rouge_intern/Countries_city/GERMANY.csv\")[\"city\"].tolist()\n",
    "\n"
   ]
  },
  {
   "cell_type": "code",
   "execution_count": 22,
   "id": "b79ab5e4-2d9b-4d9a-a3e7-53f995fa5eea",
   "metadata": {},
   "outputs": [],
   "source": [
    "\n",
    "\n",
    "all = [US,HK,INDIA,UK,SWEDEN,NETHERLANDS,SWITZERLAND,CHINA,ISRAEL,GERMANY]\n",
    "for each in all:\n",
    "    correction(each)\n",
    "\n",
    "file.loc[file.Modified.isna(),\"Modified\"] = file.HQ"
   ]
  },
  {
   "cell_type": "code",
   "execution_count": 26,
   "id": "f8de05f2-e9b4-4024-817c-857f2af26520",
   "metadata": {},
   "outputs": [
    {
     "data": {
      "text/plain": [
       "United States     6813\n",
       "India             3246\n",
       "United Kingdom    1156\n",
       "Germany            647\n",
       "China              607\n",
       "                  ... \n",
       "Takoradi             1\n",
       "Kenyasi              1\n",
       "Kuala Lumpur         1\n",
       "Mumbai               1\n",
       "Tema                 1\n",
       "Name: Modified, Length: 93, dtype: int64"
      ]
     },
     "execution_count": 26,
     "metadata": {},
     "output_type": "execute_result"
    }
   ],
   "source": [
    "file.Modified.value_counts()"
   ]
  },
  {
   "cell_type": "code",
   "execution_count": 27,
   "id": "567d019b-87cd-4746-9a1c-c030c029d09b",
   "metadata": {},
   "outputs": [],
   "source": [
    "file.to_csv(\"/Users/ansonice/Desktop/rouge_intern/Countries_city/modified_17-4-2022.csv\")"
   ]
  }
 ],
 "metadata": {
  "kernelspec": {
   "display_name": "Python 3 (ipykernel)",
   "language": "python",
   "name": "python3"
  },
  "language_info": {
   "codemirror_mode": {
    "name": "ipython",
    "version": 3
   },
   "file_extension": ".py",
   "mimetype": "text/x-python",
   "name": "python",
   "nbconvert_exporter": "python",
   "pygments_lexer": "ipython3",
   "version": "3.10.3"
  }
 },
 "nbformat": 4,
 "nbformat_minor": 5
}
